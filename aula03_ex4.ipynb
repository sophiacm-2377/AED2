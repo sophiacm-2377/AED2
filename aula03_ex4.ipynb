{
 "cells": [
  {
   "cell_type": "code",
   "execution_count": 17,
   "id": "9294da9c-06ad-458e-b076-f352fdcfbbd1",
   "metadata": {},
   "outputs": [],
   "source": [
    "def buscar_clientes(nome, lista):\n",
    "    for i in range (len(lista)):\n",
    "        if lista[1].lower() == nome.lower\n",
    "            return 1\n",
    "    return -1"
   ]
  },
  {
   "cell_type": "code",
   "execution_count": 18,
   "id": "191e25bc-a512-4282-8d49-0ce3ddbcf341",
   "metadata": {},
   "outputs": [],
   "source": [
    "lista_nomes = [\"kaua\", \"gabi\", \"osana\", \"sophia\"]"
   ]
  },
  {
   "cell_type": "code",
   "execution_count": 11,
   "id": "a859934d-a855-4a8d-b492-a0d7704a7d52",
   "metadata": {},
   "outputs": [
    {
     "name": "stdin",
     "output_type": "stream",
     "text": [
      "digite o nome:  sophia\n"
     ]
    }
   ],
   "source": [
    "n = input (\"digite o nome: \")"
   ]
  },
  {
   "cell_type": "code",
   "execution_count": 27,
   "id": "44870794-e724-4811-83f1-f3bdac685881",
   "metadata": {},
   "outputs": [
    {
     "ename": "SyntaxError",
     "evalue": "invalid syntax (3756968943.py, line 9)",
     "output_type": "error",
     "traceback": [
      "\u001b[1;36m  Cell \u001b[1;32mIn[27], line 9\u001b[1;36m\u001b[0m\n\u001b[1;33m    else:\u001b[0m\n\u001b[1;37m    ^\u001b[0m\n\u001b[1;31mSyntaxError\u001b[0m\u001b[1;31m:\u001b[0m invalid syntax\n"
     ]
    }
   ],
   "source": [
    "while True:\n",
    "    n = input(\"Digite o nome < 'sair' para sair >: \").lower()\n",
    "    if n.lower() == \"sair\":\n",
    "        break \n",
    "    else:\n",
    "        i = buscar_clientes(n, lista_nomes)\n",
    "        if 1 == -1:\n",
    "            print(\"Nome não encontrado!\")\n",
    "    else:\n",
    "        print(f\"O nome {n} foi encontrado na posição {1}\")"
   ]
  },
  {
   "cell_type": "markdown",
   "id": "453716d8-a639-4414-b04d-b61a97dc9b11",
   "metadata": {},
   "source": [
    "# projeto 2"
   ]
  },
  {
   "cell_type": "code",
   "execution_count": null,
   "id": "5e2ca47e-566b-4339-8b99-7899c5d797ad",
   "metadata": {},
   "outputs": [],
   "source": [
    "def buscar_nomes(nome, lista)\n"
   ]
  }
 ],
 "metadata": {
  "kernelspec": {
   "display_name": "Python 3 (ipykernel)",
   "language": "python",
   "name": "python3"
  },
  "language_info": {
   "codemirror_mode": {
    "name": "ipython",
    "version": 3
   },
   "file_extension": ".py",
   "mimetype": "text/x-python",
   "name": "python",
   "nbconvert_exporter": "python",
   "pygments_lexer": "ipython3",
   "version": "3.13.5"
  }
 },
 "nbformat": 4,
 "nbformat_minor": 5
}
