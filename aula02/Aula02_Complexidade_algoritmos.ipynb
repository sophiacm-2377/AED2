{
 "cells": [
  {
   "cell_type": "markdown",
   "metadata": {},
   "source": [
    "![Algoritmos e Estrutura de Dados II - Prof Piva](AED2_banner.jpg)"
   ]
  },
  {
   "cell_type": "markdown",
   "metadata": {},
   "source": [
    "## Aula 2 - Complexidade de Algoritmos"
   ]
  },
  {
   "cell_type": "markdown",
   "metadata": {},
   "source": [
    "Existem muitas formas de resolver o mesmo problema...\n",
    "\n",
    "Como saber qual resolução é a melhor?\n",
    "\n",
    "TEMPO e ESPAÇO são algumas das variáveis que mais são utilizadas"
   ]
  },
  {
   "cell_type": "code",
   "execution_count": 1,
   "metadata": {},
   "outputs": [],
   "source": [
    "# função para contagem.\n",
    "def conta_n(pS):\n",
    "    \"\"\"\n",
    "    função que faz a contagem (+1 e _1) n-vezes, onde n = tamanho do problema (problemSize).\n",
    "    \"\"\"\n",
    "    work = 1\n",
    "    for x in range(pS):\n",
    "        work += 1\n",
    "        work -= 1\n"
   ]
  },
  {
   "cell_type": "code",
   "execution_count": 2,
   "metadata": {},
   "outputs": [],
   "source": [
    "# TESTANDO"
   ]
  },
  {
   "cell_type": "code",
   "execution_count": 3,
   "metadata": {},
   "outputs": [
    {
     "name": "stdout",
     "output_type": "stream",
     "text": [
      "306 ms ± 5.84 ms per loop (mean ± std. dev. of 7 runs, 1 loop each)\n",
      "616 ms ± 8.21 ms per loop (mean ± std. dev. of 7 runs, 1 loop each)\n",
      "1.22 s ± 24.9 ms per loop (mean ± std. dev. of 7 runs, 1 loop each)\n",
      "2.46 s ± 27.9 ms per loop (mean ± std. dev. of 7 runs, 1 loop each)\n",
      "5.11 s ± 98.8 ms per loop (mean ± std. dev. of 7 runs, 1 loop each)\n"
     ]
    }
   ],
   "source": [
    "problemSize = 10000000\n",
    "%timeit conta_n(problemSize)\n",
    "problemSize *= 2\n",
    "%timeit conta_n(problemSize)\n",
    "problemSize *= 2\n",
    "%timeit conta_n(problemSize)\n",
    "problemSize *= 2\n",
    "%timeit conta_n(problemSize)\n",
    "problemSize *= 2\n",
    "%timeit conta_n(problemSize)"
   ]
  },
  {
   "cell_type": "markdown",
   "metadata": {},
   "source": [
    "-----------"
   ]
  },
  {
   "cell_type": "markdown",
   "metadata": {
    "id": "lEGt0HA2YFoo",
    "jp-MarkdownHeadingCollapsed": true
   },
   "source": [
    "### Notação Big-O\n",
    "\n",
    "- Como comparar dois algoritmos?\n",
    "- Comparação objetiva entre algoritmos\n",
    "- Considera diferenças entre poder de processamento, sistema operacional, linguagem de programação\n",
    "- O quanto a \"complexidade\" do algoritmo aumenta de acordo com as entradas"
   ]
  },
  {
   "cell_type": "markdown",
   "metadata": {
    "id": "AYQESEBHYkvy"
   },
   "source": [
    "## Função 1 - O(n)"
   ]
  },
  {
   "cell_type": "code",
   "execution_count": null,
   "metadata": {
    "id": "DM7oWrYlJPBc"
   },
   "outputs": [],
   "source": [
    "# 11 passos\n",
    "def soma1(n):\n",
    "  soma = 0\n",
    "  for i in range(n + 1):\n",
    "    soma += i\n",
    "\n",
    "  return soma"
   ]
  },
  {
   "cell_type": "code",
   "execution_count": null,
   "metadata": {
    "colab": {
     "base_uri": "https://localhost:8080/",
     "height": 55
    },
    "id": "5YgUZvBEJmQs",
    "outputId": "6840ba96-6231-4afc-976c-59ab40833e7e"
   },
   "outputs": [],
   "source": [
    "soma1(10)"
   ]
  },
  {
   "cell_type": "code",
   "execution_count": null,
   "metadata": {
    "colab": {
     "base_uri": "https://localhost:8080/",
     "height": 72
    },
    "id": "xpBINa-fJrK7",
    "outputId": "9f5318ad-8779-4f06-dedd-c10c3f4d5806"
   },
   "outputs": [],
   "source": [
    "%timeit soma1(10)"
   ]
  },
  {
   "cell_type": "markdown",
   "metadata": {
    "id": "UOFpt0IEY-zt"
   },
   "source": [
    "## Função 2"
   ]
  },
  {
   "cell_type": "code",
   "execution_count": null,
   "metadata": {
    "colab": {
     "base_uri": "https://localhost:8080/",
     "height": 55
    },
    "id": "8RrvLFf2KQjn",
    "outputId": "e5f12eca-a018-414e-ec08-40454b2e82f4"
   },
   "outputs": [],
   "source": [
    "(10 * 11) / 2"
   ]
  },
  {
   "cell_type": "code",
   "execution_count": null,
   "metadata": {
    "id": "gWgc6pOcKHnV"
   },
   "outputs": [],
   "source": [
    "# 3 passos\n",
    "# O(3)\n",
    "def soma2(n):\n",
    "  return (n * (n + 1)) / 2"
   ]
  },
  {
   "cell_type": "code",
   "execution_count": null,
   "metadata": {
    "colab": {
     "base_uri": "https://localhost:8080/",
     "height": 55
    },
    "id": "hQw3LgCdKZeg",
    "outputId": "4ee73ba9-1ac2-47fd-f8a1-401bb689ce46"
   },
   "outputs": [],
   "source": [
    "soma2(10)"
   ]
  },
  {
   "cell_type": "code",
   "execution_count": null,
   "metadata": {
    "colab": {
     "base_uri": "https://localhost:8080/",
     "height": 72
    },
    "id": "4MXjKO9rKfwV",
    "outputId": "80946894-bfef-45ac-82af-2c51f7947d8b"
   },
   "outputs": [],
   "source": [
    "%timeit soma2(10)"
   ]
  },
  {
   "cell_type": "markdown",
   "metadata": {
    "id": "2JrRLkOuiQHV"
   },
   "source": [
    "## Função 3\n",
    "\n",
    "- https://wiki.python.org/moin/TimeComplexity\n",
    "- https://www.ics.uci.edu/~pattis/ICS-33/lectures/complexitypython.txt"
   ]
  },
  {
   "cell_type": "code",
   "execution_count": null,
   "metadata": {
    "id": "WYrDhKx9MVIc"
   },
   "outputs": [],
   "source": [
    "# O(1000) -> O(n)\n",
    "def lista1():\n",
    "  lista = []\n",
    "  for i in range(1000):\n",
    "    lista += [i]\n",
    "  return lista"
   ]
  },
  {
   "cell_type": "code",
   "execution_count": null,
   "metadata": {
    "colab": {
     "base_uri": "https://localhost:8080/",
     "height": 55
    },
    "id": "FDwIc-Y2M8FQ",
    "outputId": "b7724390-0df3-45a0-c9b0-bdb40638d3c8"
   },
   "outputs": [],
   "source": [
    "print(lista1())"
   ]
  },
  {
   "cell_type": "code",
   "execution_count": null,
   "metadata": {
    "colab": {
     "base_uri": "https://localhost:8080/",
     "height": 55
    },
    "id": "uRtPAJJsNEZ3",
    "outputId": "0c7eb2b2-2314-4747-93bb-1e5dc756f941"
   },
   "outputs": [],
   "source": [
    "len(lista1())"
   ]
  },
  {
   "cell_type": "code",
   "execution_count": null,
   "metadata": {
    "colab": {
     "base_uri": "https://localhost:8080/",
     "height": 55
    },
    "id": "jHt2wF9tNHvU",
    "outputId": "ed52bfa0-1e91-445e-a438-da5699135428"
   },
   "outputs": [],
   "source": [
    "%timeit lista1()"
   ]
  },
  {
   "cell_type": "markdown",
   "metadata": {
    "id": "SdNJIBXZi1E4"
   },
   "source": [
    "## Função 4"
   ]
  },
  {
   "cell_type": "code",
   "execution_count": null,
   "metadata": {
    "id": "TZFmbJtQNeBp"
   },
   "outputs": [],
   "source": [
    "def lista2():\n",
    "  return range(1000)"
   ]
  },
  {
   "cell_type": "code",
   "execution_count": null,
   "metadata": {
    "id": "n8ELeuWwNqyA"
   },
   "outputs": [],
   "source": [
    "l = lista2()"
   ]
  },
  {
   "cell_type": "code",
   "execution_count": null,
   "metadata": {
    "id": "NCZAvRs_Nyg1"
   },
   "outputs": [],
   "source": [
    "for i in l:\n",
    "  print(i)"
   ]
  },
  {
   "cell_type": "code",
   "execution_count": null,
   "metadata": {
    "colab": {
     "base_uri": "https://localhost:8080/",
     "height": 72
    },
    "id": "xpz05nnVN7wK",
    "outputId": "b2d265d6-c0eb-453f-efe7-97e3cc168c84"
   },
   "outputs": [],
   "source": [
    "%timeit lista2()"
   ]
  },
  {
   "cell_type": "markdown",
   "metadata": {
    "id": "DqQBYoVqee4h"
   },
   "source": [
    "### Funções Big-O\n",
    "\n",
    "- 1\tConstant\n",
    "- log(n)\tLogarithmic\n",
    "- n\tLinear\n",
    "- nlog(n)\tLog Linear\n",
    "- n^2\tQuadratic\n",
    "- n^3\tCubic\n",
    "- 2^n\tExponential\n"
   ]
  },
  {
   "cell_type": "code",
   "execution_count": null,
   "metadata": {
    "id": "pJU-eqcBQcb-"
   },
   "outputs": [],
   "source": [
    "from math import log\n",
    "import numpy as np\n",
    "import matplotlib.pyplot as plt\n",
    "\n",
    "n = np.linspace(1, 10, 100)"
   ]
  },
  {
   "cell_type": "code",
   "execution_count": null,
   "metadata": {
    "colab": {
     "base_uri": "https://localhost:8080/",
     "height": 55
    },
    "id": "sykI8ixAQrov",
    "outputId": "7fd243c1-84d5-4c39-bb81-fc044224f5b3"
   },
   "outputs": [],
   "source": [
    "len(n)"
   ]
  },
  {
   "cell_type": "code",
   "execution_count": null,
   "metadata": {
    "colab": {
     "base_uri": "https://localhost:8080/",
     "height": 389
    },
    "id": "wMRTGbvBQubQ",
    "outputId": "51d61214-cbb4-456f-8597-5ce0fb01824d"
   },
   "outputs": [],
   "source": [
    "n"
   ]
  },
  {
   "cell_type": "code",
   "execution_count": null,
   "metadata": {
    "colab": {
     "base_uri": "https://localhost:8080/",
     "height": 55
    },
    "id": "37Gf0KmyRfuL",
    "outputId": "93293882-4496-4c4a-a826-73045d7e2ca9"
   },
   "outputs": [],
   "source": [
    "n.shape"
   ]
  },
  {
   "cell_type": "code",
   "execution_count": null,
   "metadata": {
    "colab": {
     "base_uri": "https://localhost:8080/",
     "height": 143
    },
    "id": "MAKr_CMrRali",
    "outputId": "7d65b2c2-2b6a-4fe1-8d09-b8ed4ec5e3ac"
   },
   "outputs": [],
   "source": [
    "np.ones(n.shape)"
   ]
  },
  {
   "cell_type": "code",
   "execution_count": null,
   "metadata": {
    "colab": {
     "base_uri": "https://localhost:8080/",
     "height": 389
    },
    "id": "S43KtWNHRwJB",
    "outputId": "038ecac2-f694-43cc-a57b-9546ab4bc648"
   },
   "outputs": [],
   "source": [
    "n"
   ]
  },
  {
   "cell_type": "code",
   "execution_count": null,
   "metadata": {
    "colab": {
     "base_uri": "https://localhost:8080/",
     "height": 389
    },
    "id": "K7gacI7YRuj2",
    "outputId": "34f9438e-606c-442c-d646-674cb5dab9fc"
   },
   "outputs": [],
   "source": [
    "np.log(n)"
   ]
  },
  {
   "cell_type": "code",
   "execution_count": null,
   "metadata": {
    "colab": {
     "base_uri": "https://localhost:8080/",
     "height": 389
    },
    "id": "dQHlo9NASDX6",
    "outputId": "245c5684-4a2c-4c3d-a824-0873fc29e533"
   },
   "outputs": [],
   "source": [
    "n"
   ]
  },
  {
   "cell_type": "code",
   "execution_count": null,
   "metadata": {
    "colab": {
     "base_uri": "https://localhost:8080/",
     "height": 389
    },
    "id": "cqBqYabHSE8v",
    "outputId": "ddf5c402-b549-45f3-df38-f3bbc6bbce53"
   },
   "outputs": [],
   "source": [
    "n * np.log(n)"
   ]
  },
  {
   "cell_type": "code",
   "execution_count": null,
   "metadata": {
    "colab": {
     "base_uri": "https://localhost:8080/",
     "height": 389
    },
    "id": "BycNj9WhSKls",
    "outputId": "0a00bdba-03c4-4121-c78a-fcc17a8f6176"
   },
   "outputs": [],
   "source": [
    "n"
   ]
  },
  {
   "cell_type": "code",
   "execution_count": null,
   "metadata": {
    "colab": {
     "base_uri": "https://localhost:8080/",
     "height": 477
    },
    "id": "qTJW0bMWSP9K",
    "outputId": "a45b0e52-aa1d-4182-c3c7-c5ebf905c6d8"
   },
   "outputs": [],
   "source": [
    "n**2"
   ]
  },
  {
   "cell_type": "code",
   "execution_count": null,
   "metadata": {
    "colab": {
     "base_uri": "https://localhost:8080/",
     "height": 389
    },
    "id": "Nsockcs0SX3U",
    "outputId": "d2ffc336-f50d-4983-e8ab-47557301cf5b"
   },
   "outputs": [],
   "source": [
    "n"
   ]
  },
  {
   "cell_type": "code",
   "execution_count": null,
   "metadata": {
    "colab": {
     "base_uri": "https://localhost:8080/",
     "height": 477
    },
    "id": "5selU7fWSZac",
    "outputId": "0d358ab6-b719-480e-caf9-c65a2d9f8332"
   },
   "outputs": [],
   "source": [
    "n**3"
   ]
  },
  {
   "cell_type": "code",
   "execution_count": null,
   "metadata": {
    "colab": {
     "base_uri": "https://localhost:8080/",
     "height": 389
    },
    "id": "YoSw8BxnSiVp",
    "outputId": "fa3c3d4f-dff4-44c7-9848-ccb84cc23da1"
   },
   "outputs": [],
   "source": [
    "n"
   ]
  },
  {
   "cell_type": "code",
   "execution_count": null,
   "metadata": {
    "colab": {
     "base_uri": "https://localhost:8080/",
     "height": 477
    },
    "id": "_3Jh3F1sSmMj",
    "outputId": "68991f22-2b68-40f7-cde5-8c41c731c88c"
   },
   "outputs": [],
   "source": [
    "2**n"
   ]
  },
  {
   "cell_type": "code",
   "execution_count": null,
   "metadata": {
    "id": "FYxlwD_kQ7C9"
   },
   "outputs": [],
   "source": [
    "labels = ['Constant', 'Logarithmic', 'Linear', 'Log linear', 'Quadratic', 'Cubic', 'Exponential']\n",
    "big_o = [np.ones(n.shape), np.log(n), n, n * np.log(n), n**2, n**3, 2**n]"
   ]
  },
  {
   "cell_type": "code",
   "execution_count": null,
   "metadata": {
    "colab": {
     "base_uri": "https://localhost:8080/",
     "height": 539
    },
    "id": "dDzlTlVuSz0k",
    "outputId": "548554ea-65df-4472-d282-4f491b4a5b35"
   },
   "outputs": [],
   "source": [
    "plt.figure(figsize=(10,8))\n",
    "plt.ylim(0, 100)\n",
    "for i in range(len(big_o)):\n",
    "  plt.plot(n, big_o[i], label = labels[i])\n",
    "plt.legend()\n",
    "plt.ylabel('Runtime')\n",
    "plt.xlabel('n')"
   ]
  },
  {
   "cell_type": "markdown",
   "metadata": {
    "id": "zYNkXdvtm1x2"
   },
   "source": [
    "## Exemplos Big-O\n",
    "\n",
    "- https://www.bigocheatsheet.com/"
   ]
  },
  {
   "cell_type": "markdown",
   "metadata": {
    "id": "__Ma6k2zm4c6"
   },
   "source": [
    "### Constant - O(1)"
   ]
  },
  {
   "cell_type": "code",
   "execution_count": null,
   "metadata": {
    "id": "sw04wioQU2iB"
   },
   "outputs": [],
   "source": [
    "lista = [1, 2, 3, 4, 5]"
   ]
  },
  {
   "cell_type": "code",
   "execution_count": null,
   "metadata": {
    "id": "sVVU_dh2U5uo"
   },
   "outputs": [],
   "source": [
    "def constant(n):\n",
    "  print(n[0])\n",
    "  print(n[1])"
   ]
  },
  {
   "cell_type": "code",
   "execution_count": null,
   "metadata": {
    "colab": {
     "base_uri": "https://localhost:8080/",
     "height": 72
    },
    "id": "EYD4U5xIVDM6",
    "outputId": "f2d94e9c-cc0c-42d0-ae0c-ef3c466a47b8"
   },
   "outputs": [],
   "source": [
    "constant(lista)"
   ]
  },
  {
   "cell_type": "markdown",
   "metadata": {
    "id": "D8QceUvBoF6k"
   },
   "source": [
    "### Linear - O(n)"
   ]
  },
  {
   "cell_type": "code",
   "execution_count": null,
   "metadata": {
    "id": "5hsilgAbVS35"
   },
   "outputs": [],
   "source": [
    "def linear(n):\n",
    "  for i in n:\n",
    "    print(i)"
   ]
  },
  {
   "cell_type": "code",
   "execution_count": null,
   "metadata": {
    "colab": {
     "base_uri": "https://localhost:8080/",
     "height": 125
    },
    "id": "_g7BQHrUVXfw",
    "outputId": "99474cf9-b20d-418f-8ff4-253a0ff7a411"
   },
   "outputs": [],
   "source": [
    "linear(lista)"
   ]
  },
  {
   "cell_type": "markdown",
   "metadata": {
    "id": "I3qq3AhkpT_W"
   },
   "source": [
    "### Quadratic - O(n^2) - polynomial"
   ]
  },
  {
   "cell_type": "code",
   "execution_count": null,
   "metadata": {
    "id": "JiFJ9niEVnGO"
   },
   "outputs": [],
   "source": [
    "def quadratic(n):\n",
    "  for i in n:\n",
    "    for j in n:\n",
    "      print(i, j)\n",
    "    print('---')"
   ]
  },
  {
   "cell_type": "code",
   "execution_count": null,
   "metadata": {
    "colab": {
     "base_uri": "https://localhost:8080/",
     "height": 565
    },
    "id": "x9t4QxjJV677",
    "outputId": "2f1d742a-8143-40f7-92cb-d70402e34226"
   },
   "outputs": [],
   "source": [
    "quadratic(lista)"
   ]
  },
  {
   "cell_type": "markdown",
   "metadata": {
    "id": "QoRodqxnqYqB"
   },
   "source": [
    "### Combination"
   ]
  },
  {
   "cell_type": "code",
   "execution_count": null,
   "metadata": {
    "id": "GQK_Hi3jWWBU"
   },
   "outputs": [],
   "source": [
    "# O(1) + O(5) + O(n) + O(n) + O(3)\n",
    "# O(9) + O(2n) -> O(n)\n",
    "\n",
    "def combination(n):\n",
    "  # O(1)\n",
    "  print(n[0])\n",
    "\n",
    "  # O(5)\n",
    "  for i in range(5):\n",
    "    print('test ', i)\n",
    "\n",
    "  # O(n)\n",
    "  for i in n:\n",
    "    print(i)\n",
    "\n",
    "  # O(n)\n",
    "  for i in n:\n",
    "    print(i)\n",
    "\n",
    "  # O(3)\n",
    "  print('Python')\n",
    "  print('Python')\n",
    "  print('Python')"
   ]
  },
  {
   "cell_type": "code",
   "execution_count": null,
   "metadata": {
    "colab": {
     "base_uri": "https://localhost:8080/",
     "height": 372
    },
    "id": "ve0JsTsKWmR2",
    "outputId": "1081b265-34a5-42c7-b212-d8e43d733d73"
   },
   "outputs": [],
   "source": [
    "combination(lista)"
   ]
  },
  {
   "cell_type": "markdown",
   "metadata": {},
   "source": [
    "## Fim da Aula 2"
   ]
  },
  {
   "cell_type": "code",
   "execution_count": 11,
   "metadata": {},
   "outputs": [
    {
     "ename": "IndentationError",
     "evalue": "unindent does not match any outer indentation level (<string>, line 5)",
     "output_type": "error",
     "traceback": [
      "\u001b[1;36m  File \u001b[1;32m<string>:5\u001b[1;36m\u001b[0m\n\u001b[1;33m    return fibonacci(n-1) + fibonacci(n-2)\u001b[0m\n\u001b[1;37m                                          ^\u001b[0m\n\u001b[1;31mIndentationError\u001b[0m\u001b[1;31m:\u001b[0m unindent does not match any outer indentation level\n"
     ]
    }
   ],
   "source": [
    "def fibonacci(n):\n",
    "    if n <= 1:\n",
    "         return n\n",
    "    else:\n",
    " return fibonacci(n-1) + fibonacci(n-2)\n",
    "# Exemplo de uso\n",
    "print(fibonacci(10)) # Saída: 55"
   ]
  }
 ],
 "metadata": {
  "colab": {
   "provenance": []
  },
  "kernelspec": {
   "display_name": "Python 3 (ipykernel)",
   "language": "python",
   "name": "python3"
  },
  "language_info": {
   "codemirror_mode": {
    "name": "ipython",
    "version": 3
   },
   "file_extension": ".py",
   "mimetype": "text/x-python",
   "name": "python",
   "nbconvert_exporter": "python",
   "pygments_lexer": "ipython3",
   "version": "3.13.5"
  }
 },
 "nbformat": 4,
 "nbformat_minor": 4
}
