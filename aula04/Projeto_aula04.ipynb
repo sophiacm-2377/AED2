{
 "cells": [
  {
   "cell_type": "code",
   "execution_count": null,
   "id": "4d77d325-505a-4c1b-b517-73dad97158a7",
   "metadata": {},
   "outputs": [],
   "source": [
    "projeto"
   ]
  },
  {
   "cell_type": "code",
   "execution_count": null,
   "id": "8f70a314-0aa5-4e74-9ad2-16753611e937",
   "metadata": {},
   "outputs": [],
   "source": [
    "livros = [\n",
    "    {\"titulo\": \"Algoritmos\", \"autor\": \"Cormen\", \"ano\": 2009},\n",
    "    {\"titulo\": \"Estruturas de Dados\", \"autor\": \"Sedgewick\", \"ano\": 2011},\n",
    "    {\"titulo\": \"Java Básico\", \"autor\": \"Deitel\", \"ano\": 2015},\n",
    "    {\"titulo\": \"Python para Iniciantes\", \"autor\": \"Lutz\", \"ano\": 2017},\n",
    "    {\"titulo\": \"Redes de Computadores\", \"autor\": \"Tanenbaum\", \"ano\": 2010}\n",
    "]\n",
    "\n",
    "titulo_procurado = input(\"Digite o título do livro que deseja buscar: \").strip().lower()\n",
    "\n",
    "def busca_sequencial(lista, titulo):\n",
    "    for livro in lista:\n",
    "        if titulo in livro[\"titulo\"].lower():\n",
    "            return livro\n",
    "    return None\n",
    "\n",
    "resultado = busca_sequencial(livros, titulo_procurado)\n",
    "\n",
    "if resultado:\n",
    "    print(f\"\\nTítulo: {resultado['titulo']}\\nAutor: {resultado['autor']}\\nAno: {resultado['ano']}\")\n",
    "else:\n",
    "    print(\"Livro não encontrado.\")\n"
   ]
  },
  {
   "cell_type": "code",
   "execution_count": null,
   "id": "910cda4d-7bb7-4d59-8e18-2df4a8b47ed0",
   "metadata": {},
   "outputs": [],
   "source": []
  }
 ],
 "metadata": {
  "kernelspec": {
   "display_name": "Python 3 (ipykernel)",
   "language": "python",
   "name": "python3"
  },
  "language_info": {
   "codemirror_mode": {
    "name": "ipython",
    "version": 3
   },
   "file_extension": ".py",
   "mimetype": "text/x-python",
   "name": "python",
   "nbconvert_exporter": "python",
   "pygments_lexer": "ipython3",
   "version": "3.13.5"
  }
 },
 "nbformat": 4,
 "nbformat_minor": 5
}
